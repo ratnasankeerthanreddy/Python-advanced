{
 "cells": [
  {
   "cell_type": "markdown",
   "metadata": {
    "colab_type": "text",
    "id": "BurSaAFUzQf_"
   },
   "source": [
    "<h1>Python: without numpy or sklearn </h1>"
   ]
  },
  {
   "cell_type": "markdown",
   "metadata": {
    "colab_type": "text",
    "id": "R_M8ThqXzQgA"
   },
   "source": [
    "<h3> Q1: Given two matrices please print the product of those two matrices </h3>\n",
    "<pre>\n",
    "\n",
    "Ex 1: A   = [[1 3 4]\n",
    "             [2 5 7]\n",
    "             [5 9 6]]\n",
    "      B   = [[1 0 0]\n",
    "             [0 1 0]\n",
    "             [0 0 1]]\n",
    "      A*B = [[1 3 4]\n",
    "             [2 5 7]\n",
    "             [5 9 6]]\n",
    "\n",
    "     \n",
    "Ex 2: A   = [[1 2]\n",
    "             [3 4]]\n",
    "      B   = [[1 2 3 4 5]\n",
    "             [5 6 7 8 9]]\n",
    "      A*B = [[11 14 17 20 23]\n",
    "             [18 24 30 36 42]]\n",
    "             \n",
    "Ex 3: A   = [[1 2]\n",
    "             [3 4]]\n",
    "      B   = [[1 4]\n",
    "             [5 6]\n",
    "             [7 8]\n",
    "             [9 6]]\n",
    "      A*B =Not possible\n",
    "</pre>"
   ]
  },
  {
   "cell_type": "code",
   "execution_count": 2,
   "metadata": {
    "colab": {},
    "colab_type": "code",
    "id": "_EELp8o7zQgB"
   },
   "outputs": [
    {
     "name": "stdout",
     "output_type": "stream",
     "text": [
      "Enter No. of rows in the first matrix: 2\n",
      "Enter No. of columns in the first matrix: 2\n",
      "2\n",
      "2\n",
      "2\n",
      "2\n",
      "Enter No. of rows in the second matrix: 3\n",
      "Enter No. of columns in the second matrix: 3\n",
      "2\n",
      "2\n",
      "2\n",
      "2\n",
      "2\n",
      "2\n",
      "2\n",
      "2\n",
      "2\n",
      "Multiplication not possible\n"
     ]
    }
   ],
   "source": [
    "# write your python code here\n",
    "# you can take the above example as sample input for your program to test\n",
    "# it should work for any general input try not to hard code for only given input examples\n",
    "\n",
    "# you can free to change all these codes/structure\n",
    "# here A and B are list of lists\n",
    "\n",
    "    \n",
    "    # write your code\n",
    "import random\n",
    "m1=int(input(\"Enter No. of rows in the first matrix: \"))\n",
    "n1=int(input(\"Enter No. of columns in the first matrix: \"))\n",
    "a = [[random.random() for col in range(n1)] for row in range(m1)]\n",
    "for i in range(m1):\n",
    "    for j in range(n1):\n",
    "        a[i][j]=int(input())\n",
    "m2=int(input(\"Enter No. of rows in the second matrix: \"))\n",
    "n2=int(input(\"Enter No. of columns in the second matrix: \"))\n",
    "b = [[random.random() for col in range(n2)] for row in range(m2)]\n",
    "for i in range(m2):\n",
    "    for j in range(n2):\n",
    "        b[i][j]=int(input())\n",
    "c=[[random.random() for col in range(n2)]for row in range(m1)]\n",
    "if (n1==m2):\n",
    "    for i in range(m1):\n",
    "        for j in range(n2):\n",
    "            c[i][j]=0\n",
    "            for k in range(n1):\n",
    "                c[i][j]+=a[i][k]*b[k][j]\n",
    "            print(c[i][j],'\\n',end=\"\")\n",
    "        print\n",
    "else:\n",
    "    print(\"Multiplication not possible\")\n",
    "\n"
   ]
  },
  {
   "cell_type": "markdown",
   "metadata": {
    "colab_type": "text",
    "id": "2ZMnHrwNzQgD"
   },
   "source": [
    "<h3> Q2: Select a number randomly with probability proportional to its magnitude from the given array of n elements</h3>\n",
    "\n",
    "consider an experiment, selecting an element from the list A randomly with probability proportional to its magnitude.\n",
    "assume we are doing the same experiment for 100 times with replacement, in each experiment you will print a number that is selected randomly from A.\n",
    "\n",
    "<pre>\n",
    "Ex 1: A = [0 5 27 6 13 28 100 45 10 79]\n",
    "let f(x) denote the number of times x getting selected in 100 experiments.\n",
    "f(100) > f(79) > f(45) > f(28) > f(27) > f(13) > f(10) > f(6) > f(5) > f(0)\n",
    "</pre>"
   ]
  },
  {
   "cell_type": "code",
   "execution_count": 2,
   "metadata": {
    "colab": {
     "base_uri": "https://localhost:8080/",
     "height": 313
    },
    "colab_type": "code",
    "executionInfo": {
     "elapsed": 1064,
     "status": "error",
     "timestamp": 1561186084915,
     "user": {
      "displayName": "Applied AI Course",
      "photoUrl": "https://lh5.googleusercontent.com/-9_3A9F-kDXs/AAAAAAAAAAI/AAAAAAAAACw/IprjYvUuoXQ/s64/photo.jpg",
      "userId": "00484516897554883881"
     },
     "user_tz": -330
    },
    "id": "Qh4J8ifYzQgD",
    "outputId": "72ed3154-1f9a-4500-881c-facf8957b9c6",
    "scrolled": true
   },
   "outputs": [
    {
     "name": "stdout",
     "output_type": "stream",
     "text": [
      "[45, 28, 79, 79, 5, 100, 28, 27, 79, 79, 79, 45, 79, 100, 28, 13, 27, 79, 100, 79, 28, 10, 79, 27, 100, 27, 79, 45, 28, 79, 28, 28, 100, 79, 100, 10, 100, 79, 28, 45, 5, 100, 45, 28, 100, 100, 79, 100, 79, 45, 100, 45, 27, 79, 6, 100, 28, 100, 10, 45, 100, 10, 79, 100, 100, 100, 79, 100, 79, 5, 27, 45, 45, 100, 79, 100, 79, 27, 45, 79, 28, 100, 28, 79, 79, 28, 27, 27, 79, 45, 79, 100, 79, 27, 13, 27, 27, 45, 45, 100]\n"
     ]
    }
   ],
   "source": [
    "from random import uniform\n",
    "# write your python code here\n",
    "# you can take the above example as sample input for your program to test\n",
    "# it should work for any general input try not to hard code for only given input examples\n",
    "import random\n",
    "from itertools import accumulate\n",
    "from bisect import bisect\n",
    "\n",
    "# you can free to change all these codes/structure\n",
    "def pick_a_number_from_list(A, n=100):\n",
    "    # your code here for picking an element from with the probability propotional to its magnitude\n",
    "    cum_sum = [*accumulate(A)]\n",
    "    # cum_sum = [0, 5, 32, 38, 51, 79, 179, 224, 234, 313]\n",
    "\n",
    "    out = []\n",
    "    for _ in range(n):\n",
    "        i = random.random()                     # i = [0.0, 1.0)\n",
    "        idx = bisect(cum_sum, i*cum_sum[-1])    # get index to list A\n",
    "        out.append(A[idx])\n",
    "\n",
    "    return out\n",
    "A = [0,5,27,6,13,28,100,45,10,79]\n",
    "print(pick_a_number_from_list(A))\n",
    "\n",
    "\n"
   ]
  },
  {
   "cell_type": "markdown",
   "metadata": {
    "colab_type": "text",
    "id": "e323QFvPzQgF"
   },
   "source": [
    "<h3> Q3: Replace the digits in the string with #</h3>\n",
    "\n",
    "Consider a string that will have digits in that, we need to remove all the characters which are not digits and replace the digits with #\n",
    "<pre>\n",
    "Ex 1: A = 234                Output: ###\n",
    "Ex 2: A = a2b3c4             Output: ###\n",
    "Ex 3: A = abc                Output:   (empty string)\n",
    "Ex 5: A = #2a$#b%c%561#      Output: ####\n",
    "</pre>"
   ]
  },
  {
   "cell_type": "code",
   "execution_count": 3,
   "metadata": {
    "colab": {},
    "colab_type": "code",
    "id": "Ng2BGL2wzQgF"
   },
   "outputs": [
    {
     "name": "stdout",
     "output_type": "stream",
     "text": [
      "Enter the string:25edrftgyun3456789)\n",
      "#########\n"
     ]
    }
   ],
   "source": [
    "\n",
    "# write your python code here\n",
    "# you can take the above example as sample input for your program to test\n",
    "# it should work for any general input try not to hard code for only given input examples\n",
    "import re\n",
    "# you can free to change all these codes/structure\n",
    "# String: it will be the input to your program\n",
    "def replace_digits(String):\n",
    "    # write your code\n",
    "    new=\"\"\n",
    "    for i in String:\n",
    "        for x in i:\n",
    "            if x.isdigit():\n",
    "                new+='#'*(len(x))\n",
    "            else:\n",
    "                new+=\"\"*(len(x))\n",
    "    return(new) # modified string which is after replacing the # with digits\n",
    "String=input(\"Enter the string:\")\n",
    "A=replace_digits(String)\n",
    "print(A)"
   ]
  },
  {
   "cell_type": "markdown",
   "metadata": {
    "colab_type": "text",
    "id": "VodlThpgzQgH"
   },
   "source": [
    "<h3> Q4: Students marks dashboard</h3>\n",
    "\n",
    "Consider the marks list of class students given in two lists <br>\n",
    "Students = ['student1','student2','student3','student4','student5','student6','student7','student8','student9','student10'] <br>\n",
    "Marks = [45, 78, 12, 14, 48, 43, 45, 98, 35, 80] <br>\n",
    "from the above two lists the Student[0] got Marks[0],  Student[1] got Marks[1] and so on. <br><br>\n",
    "\n",
    "Your task is to print the name of students\n",
    "\n",
    "<strong>a. Who got top 5 ranks, in the descending order of marks</strong> <br>\n",
    "<strong>b. Who got least 5 ranks, in the increasing order of marks</strong><br>\n",
    "<strong>d. Who got marks between  &gt;25th percentile &lt;75th percentile, in the increasing order of marks.</strong>\n",
    "\n",
    "<pre>\n",
    "Ex 1: \n",
    "Students=['student1','student2','student3','student4','student5','student6','student7','student8','student9','student10'] \n",
    "Marks = [45, 78, 12, 14, 48, 43, 47, 98, 35, 80]\n",
    "\n",
    "a. \n",
    "student8  98\n",
    "student10 80\n",
    "student2  78\n",
    "student5  48\n",
    "student7  47\n",
    "\n",
    "b.\n",
    "student3 12\n",
    "student4 14\n",
    "student9 35\n",
    "student6 43\n",
    "student1 45\n",
    "\n",
    "c.\n",
    "student9 35\n",
    "student6 43\n",
    "student1 45\n",
    "student7 47\n",
    "student5 48\n",
    "</pre>"
   ]
  },
  {
   "cell_type": "code",
   "execution_count": 200,
   "metadata": {
    "colab": {},
    "colab_type": "code",
    "id": "_eysEkwOzQgI"
   },
   "outputs": [
    {
     "name": "stdout",
     "output_type": "stream",
     "text": [
      "a.\n",
      "student8 98\n",
      "student10 80\n",
      "student2 78\n",
      "student5 48\n",
      "student7 47\n",
      "------------------------\n",
      "b.\n",
      "student3 12\n",
      "student4 14\n",
      "student9 35\n",
      "student6 43\n",
      "student1 45\n",
      "------------------------\n",
      "c.\n",
      "student9 35\n",
      "student6 43\n",
      "student1 45\n",
      "student7 47\n",
      "student5 48\n"
     ]
    }
   ],
   "source": [
    "# write your python code here\n",
    "# you can take the above example as sample input for your program to test\n",
    "# it should work for any general input try not to hard code for only given input examples\n",
    "import operator\n",
    "import math\n",
    "import functools\n",
    "# you can free to change all these codes/structure\n",
    "def display_dash_board(students, marks):\n",
    "    dictionary = dict(zip(students, marks))\n",
    "    top_5_students = dict( sorted(dictionary.items(), key=operator.itemgetter(1), reverse=True)[:5])\n",
    "    least_5_students = dict( sorted(dictionary.items(), key=operator.itemgetter(1), reverse=False)[:5]) \n",
    "    #students_within_25_and_75 = dict( sorted(dictionary.items(), key=operator.itemgetter(1), reverse=False)[2:7])\n",
    "    \n",
    "    print(\"a.\")\n",
    "    for k,v in top_5_students.items():       \n",
    "        print(k,v)\n",
    "    print(\"------------------------\")\n",
    "    print(\"b.\")\n",
    "    for k,v in least_5_students.items():\n",
    "        print(k,v)\n",
    "    print(\"------------------------\")\n",
    "    print(\"c.\")\n",
    "def students_within_25_and_75(marks, percent):\n",
    "    if not marks:\n",
    "            return None\n",
    "    k = len(marks) * percent\n",
    "    f = math.floor(k)\n",
    "    c = math.ceil(k)\n",
    "    if f == c:\n",
    "        return marks[int(k)]\n",
    "    d0 = marks[int(c)+1]\n",
    "    d1 = marks[int(c)]\n",
    "    return (d0+d1)/2\n",
    "\n",
    "students=['student1','student2','student3','student4','student5','student6','student7','student8','student9','student10'] \n",
    "marks = [45, 78, 12, 14, 48, 43, 47, 98, 35, 80]\n",
    "A = display_dash_board(students, marks)\n",
    "B= students_within_25_and_75(marks, 0.25)\n",
    "C= students_within_25_and_75(marks, 0.75)\n",
    "#print(B)\n",
    "count=0\n",
    "dictionary = dict(sorted(dictionary.items(), key=operator.itemgetter(1), reverse=False))\n",
    "for k,v in dictionary.items():\n",
    "        if v > B and v < C:\n",
    "            if count<=4:\n",
    "                print(k,v)\n",
    "                count+=1"
   ]
  },
  {
   "cell_type": "markdown",
   "metadata": {
    "colab_type": "text",
    "id": "I32BmjOGzQgJ"
   },
   "source": [
    "<h3> Q5: Find the closest points</h3>\n",
    "\n",
    "Consider you are given n data points in the form of list of tuples like S=[(x1,y1),(x2,y2),(x3,y3),(x4,y4),(x5,y5),..,(xn,yn)] and a point P=(p,q) <br> your task is to find 5 closest points(based on cosine distance) in S from P\n",
    "\n",
    "<br>Cosine distance between two points (x,y) and (p,q) is defined as $cos^{-1}(\\frac{(x\\cdot p+y\\cdot q)}{\\sqrt(x^2+y^2)\\cdot\\sqrt(p^2+q^2)})$\n",
    "<pre>\n",
    "Ex:\n",
    "\n",
    "S= [(1,2),(3,4),(-1,1),(6,-7),(0, 6),(-5,-8),(-1,-1)(6,0),(1,-1)]\n",
    "P= (3,-4)\n",
    "<img src='https://i.imgur.com/vIFPOcG.jpg', width=300>\n",
    "Output:\n",
    "(6,-7)\n",
    "(1,-1)\n",
    "(6,0)\n",
    "(-5,-8)\n",
    "(-1,-1)\n",
    "</pre>"
   ]
  },
  {
   "cell_type": "code",
   "execution_count": 201,
   "metadata": {},
   "outputs": [
    {
     "data": {
      "text/plain": [
       "[('6', '-7'), ('1', '-1'), ('6', '0'), ('-5', '-8'), ('-1', '-1')]"
      ]
     },
     "execution_count": 201,
     "metadata": {},
     "output_type": "execute_result"
    }
   ],
   "source": [
    "import math\n",
    "import numpy as np\n",
    "\n",
    "# write your python code here\n",
    "# you can take the above example as sample input for your program to test\n",
    "# it should work for any general input try not to hard code for only given input examples\n",
    "# you can free to change all these codes/structure\n",
    "\n",
    "\n",
    "# here S is list of tuples and P is a tuple ot len=2\n",
    "def closest_points_to_p(set_ofpoints, point):\n",
    "    # write your code here\n",
    "    Cosine_Distance=[]\n",
    "    for i in range(len(set_ofpoints)):\n",
    "        x = int(set_ofpoints[i][0])\n",
    "        y = int(set_ofpoints[i][1])\n",
    "        Cosine_Distance.append(math.acos((x*int(point[0])+y*int(point[1]))/math.sqrt((x**2+y**2)*(int(point[0])**2+int(point[1])**2))))\n",
    "        np.argsort(Cosine_Distance[::-1])\n",
    "    return np.argsort(Cosine_Distance)  # its list of tuples\n",
    "\n",
    "X= [('1','2'),('3','4'),('-1','1'),('6','-7'),('0','6'),('-5','-8'),('-1','-1'),('6','0'),('1','-1')]\n",
    "P= ('3','-4')\n",
    "M=closest_points_to_p(X, P)\n",
    "[X[i] for i in M][:5] #print the returned values"
   ]
  },
  {
   "cell_type": "markdown",
   "metadata": {
    "colab_type": "text",
    "id": "v6gI7N5tzQgL"
   },
   "source": [
    "<h3> Q6: Find which line separates oranges and apples</h3>\n",
    "\n",
    "Consider you are given two set of data points in the form of list of tuples like \n",
    "<pre>\n",
    "Red =[(R11,R12),(R21,R22),(R31,R32),(R41,R42),(R51,R52),..,(Rn1,Rn2)]\n",
    "Blue=[(B11,B12),(B21,B22),(B31,B32),(B41,B42),(B51,B52),..,(Bm1,Bm2)]\n",
    "</pre>\n",
    "and set of line equations(in the string format, i.e list of strings)\n",
    "<pre>\n",
    "Lines = [a1x+b1y+c1,a2x+b2y+c2,a3x+b3y+c3,a4x+b4y+c4,..,K lines]\n",
    "Note: You need to do string parsing here and get the coefficients of x,y and intercept.\n",
    "</pre>\n",
    "Your task here is to print \"YES\"/\"NO\" for each line given. You should print YES, if all the red points are one side of the line and blue points are on other side of the line, otherwise you should print NO.\n",
    "<pre>\n",
    "Ex:\n",
    "Red= [(1,1),(2,1),(4,2),(2,4), (-1,4)]\n",
    "Blue= [(-2,-1),(-1,-2),(-3,-2),(-3,-1),(1,-3)]\n",
    "Lines=[\"1x+1y+0\",\"1x-1y+0\",\"1x+0y-3\",\"0x+1y-0.5\"]\n",
    "<img src='https://i.imgur.com/DoQf7mE.jpg' width=400>\n",
    "Output:\n",
    "YES\n",
    "NO\n",
    "NO\n",
    "YES\n",
    "</pre>"
   ]
  },
  {
   "cell_type": "code",
   "execution_count": 202,
   "metadata": {
    "colab": {},
    "colab_type": "code",
    "id": "RN_X34WtzQgM"
   },
   "outputs": [
    {
     "name": "stdout",
     "output_type": "stream",
     "text": [
      "Yes\n",
      "No\n",
      "No\n",
      "Yes\n"
     ]
    }
   ],
   "source": [
    "import re\n",
    "# write your python code here\n",
    "# you can take the above example as sample input for your program to test\n",
    "# it should work for any general input try not to hard code for only given input strings\n",
    "\n",
    "\n",
    "# you can free to change all these codes/structure\n",
    "def i_am_the_one(red,blue,line):\n",
    "    \n",
    "\n",
    "    list_of_coef=[]\n",
    "    list_of_coef_clean = []\n",
    "    for x in Lines:\n",
    "        list_of_coef.append(re.split('x|y', x))\n",
    "    for i in list_of_coef:\n",
    "        temp_list=[]\n",
    "        for k in i:       \n",
    "            if ('+' in k):\n",
    "                temp_list.append(float(k.split('+')[1]))\n",
    "            else:\n",
    "                temp_list.append(float(k))\n",
    "        list_of_coef_clean.append(temp_list)\n",
    "    list_of_coef_clean = [i for i in list_of_coef_clean]\n",
    "    \n",
    "    \n",
    "    for line in list_of_coef_clean:\n",
    "        red_flag_list = []\n",
    "        blue_flag_list = []\n",
    "    \n",
    "        for i in range(len(Red)):\n",
    "            r = ((line[0]*Red[i][0])+(line[1]*Red[i][1])+line[2])\n",
    "            if r>0:\n",
    "                red_flag_list.append(True)\n",
    "            else:\n",
    "                red_flag_list.append(False)\n",
    "\n",
    "        for j in range(len(Blue)):\n",
    "            bl = ((line[0]*Blue[i][0])+(line[1]*Blue[i][1])+line[2])\n",
    "            if bl<0:\n",
    "                blue_flag_list.append(True)\n",
    "            else:\n",
    "                blue_flag_list.append(False)\n",
    "\n",
    "#         print(red_flag_list)\n",
    "#         print(blue_flag_list)\n",
    "        if (all(red_flag_list) and all(blue_flag_list)):\n",
    "                 print('Yes')\n",
    "        else:\n",
    "                 print('No')\n",
    "        #return #yes/no\n",
    "\n",
    "Red= [(1,1),(2,1),(4,2),(2,4), (-1,4)]\n",
    "Blue= [(-2,-1),(-1,-2),(-3,-2),(-3,-1),(1,-3)]\n",
    "Lines=[\"1x+1y+0\",\"1x-1y+0\",\"1x+0y-3\",\"0x+1y-0.5\"]\n",
    "\n",
    "yes_or_no = i_am_the_one(Red, Blue, i)\n",
    "#print(yes_or_no)"
   ]
  },
  {
   "cell_type": "code",
   "execution_count": 153,
   "metadata": {},
   "outputs": [
    {
     "name": "stdout",
     "output_type": "stream",
     "text": [
      "[[1.0, 1.0, 0.0], [1.0, -1.0, 0.0], [1.0, 0.0, -3.0], [0.0, 1.0, -0.5]]\n"
     ]
    }
   ],
   "source": [
    "Lines=[\"1x+1y+0\",\"1x-1y+0\",\"1x+0y-3\",\"0x+1y-0.5\"]\n",
    "\n",
    "list_of_coef=[]\n",
    "list_of_coef_clean = []\n",
    "for x in Lines:\n",
    "    list_of_coef.append(re.split('x|y', x))\n",
    "for i in list_of_coef:\n",
    "    temp_list=[]\n",
    "    for k in i:       \n",
    "        if ('+' in k):\n",
    "            temp_list.append(float(k.split('+')[1]))\n",
    "        else:\n",
    "            temp_list.append(float(k))\n",
    "    list_of_coef_clean.append(temp_list)\n",
    "list_of_coef_clean = [i for i in list_of_coef_clean]\n",
    "print(list_of_coef_clean)"
   ]
  },
  {
   "cell_type": "markdown",
   "metadata": {
    "colab_type": "text",
    "id": "_pJcGohbzQgO"
   },
   "source": [
    "<h3> Q7: Filling the missing values in the specified format</h3>\n",
    "\n",
    "You will be given a string with digits and '\\_'(missing value) symbols you have to replace the '\\_' symbols as explained \n",
    "\n",
    "<pre>\n",
    "Ex 1: _, _, _, 24 ==> 24/4, 24/4, 24/4, 24/4 i.e we. have distributed the 24 equally to all 4 places <br>\n",
    "Ex 2: 40, _, _, _, 60 ==> (60+40)/5,(60+40)/5,(60+40)/5,(60+40)/5,(60+40)/5 ==> 20, 20, 20, 20, 20 i.e. the sum of (60+40) is distributed qually to all 5 places<br>\n",
    "Ex 3: 80, _, _, _, _  ==> 80/5,80/5,80/5,80/5,80/5 ==> 16, 16, 16, 16, 16 i.e. the 80 is distributed qually to all 5 missing values that are right to it<br>\n",
    "Ex 4: _, _, 30, _, _, _, 50, _, _  \n",
    "==> we will fill the missing values from left to right \n",
    "    a. first we will distribute the 30 to left two missing values (10, 10, 10, _, _, _, 50, _, _)\n",
    "    b. now distribute the sum (10+50) missing values in between (10, 10, 12, 12, 12, 12, 12, _, _) \n",
    "    c. now we will distribute 12 to right side missing values (10, 10, 12, 12, 12, 12, 4, 4, 4)\n",
    "</pre>\n",
    "for a given string with comma seprate values, which will have both missing values numbers like ex: \"_, _, x, _, _, _\"\n",
    "you need fill the missing values\n",
    "\n",
    "Q: your program reads a string like ex: \"_, _, x, _, _, _\" and returns the filled sequence\n",
    "\n",
    "Ex: \n",
    "<pre>\n",
    "Input1: \"_,_,_,24\"\n",
    "Output1: 6,6,6,6\n",
    "\n",
    "Input2: \"40,_,_,_,60\"\n",
    "Output2: 20,20,20,20,20\n",
    "\n",
    "Input3: \"80,_,_,_,_\"\n",
    "Output3: 16,16,16,16,16\n",
    "\n",
    "Input4: \"_,_,30,_,_,_,50,_,_\"\n",
    "Output4: 10,10,12,12,12,12,4,4,4\n",
    "</pre>\n",
    "\n"
   ]
  },
  {
   "cell_type": "code",
   "execution_count": 3,
   "metadata": {},
   "outputs": [],
   "source": [
    "# https://stackoverflow.com/questions/57179618/filling-the-missing-values-in-the-specified-format-python/57180882\n",
    "def curve_smoothing(string):\n",
    "    a = string.split(',')\n",
    "    count = 0\n",
    "    middle_store = 0\n",
    "    first = 0\n",
    "    lst = []\n",
    "    start = 0\n",
    "    \n",
    "    for i in range(len(a)):\n",
    "        if a[i] == '_':\n",
    "            count = count + 1  # find number of blanks to the left of a number\n",
    "        elif count>0:\n",
    "            middle_store = int(a[i])\n",
    "            middle_store = (first+middle_store)//(count+1)\n",
    "            for j in range(start,start+count+1):\n",
    "                a[j]=middle_store\n",
    "            start = start +count\n",
    "            count = 0\n",
    "            i = i-1\n",
    "        else:\n",
    "            first = int(a[i])\n",
    "            count = count+1\n",
    "        if i ==len(a)-1:\n",
    "            if middle_store==0:\n",
    "                middle_store = (first+middle_store)//(count)\n",
    "                for j in range(start,len(a)):\n",
    "                    a[j]=middle_store\n",
    "            else:\n",
    "                middle_store=(first+middle_store)//(count+1)\n",
    "                for j in range(start+1, len(a)):\n",
    "                    a[j] = middle_store\n",
    "    return a\n"
   ]
  },
  {
   "cell_type": "code",
   "execution_count": 4,
   "metadata": {},
   "outputs": [
    {
     "name": "stdout",
     "output_type": "stream",
     "text": [
      "[6, 6, 6, 6]\n",
      "[20, 20, 20, 20, 20]\n",
      "[16, 16, 16, 16, 16]\n",
      "[10, 10, 12, 12, 12, 12, 4, 4, 4]\n"
     ]
    }
   ],
   "source": [
    "A = \"_,_,_,24\"\n",
    "B = \"40,_,_,_,60\"\n",
    "C = \"80,_,_,_,_\"\n",
    "D = \"_,_,30,_,_,_,50,_,_\"\n",
    "\n",
    "a = curve_smoothing(A)\n",
    "b = curve_smoothing(B)\n",
    "c = curve_smoothing(C)\n",
    "d = curve_smoothing(D)\n",
    "\n",
    "print(a)\n",
    "print(b)\n",
    "print(c)\n",
    "print(d)"
   ]
  },
  {
   "cell_type": "markdown",
   "metadata": {
    "colab_type": "text",
    "id": "RRsdP3MvzQgR"
   },
   "source": [
    "<h3> Q8: Find the probabilities</h3>\n",
    "\n",
    "You will be given a list of lists, each sublist will be of length 2 i.e. [[x,y],[p,q],[l,m]..[r,s]]\n",
    "consider its like a martrix of n rows and two columns\n",
    "1. The first column F will contain only 5 uniques values (F1, F2, F3, F4, F5)\n",
    "2. The second column S will contain only 3 uniques values (S1, S2, S3)\n",
    "<pre>\n",
    "your task is to find\n",
    "a. Probability of P(F=F1|S==S1), P(F=F1|S==S2), P(F=F1|S==S3)\n",
    "b. Probability of P(F=F2|S==S1), P(F=F2|S==S2), P(F=F2|S==S3)\n",
    "c. Probability of P(F=F3|S==S1), P(F=F3|S==S2), P(F=F3|S==S3)\n",
    "d. Probability of P(F=F4|S==S1), P(F=F4|S==S2), P(F=F4|S==S3)\n",
    "e. Probability of P(F=F5|S==S1), P(F=F5|S==S2), P(F=F5|S==S3)\n",
    "</pre>\n",
    "Ex:\n",
    "\n",
    "<pre>\n",
    "[[F1,S1],[F2,S2],[F3,S3],[F1,S2],[F2,S3],[F3,S2],[F2,S1],[F4,S1],[F4,S3],[F5,S1]]\n",
    "\n",
    "a. P(F=F1|S==S1)=1/4, P(F=F1|S==S2)=1/3, P(F=F1|S==S3)=0/3\n",
    "b. P(F=F2|S==S1)=1/4, P(F=F2|S==S2)=1/3, P(F=F2|S==S3)=1/3\n",
    "c. P(F=F3|S==S1)=0/4, P(F=F3|S==S2)=1/3, P(F=F3|S==S3)=1/3\n",
    "d. P(F=F4|S==S1)=1/4, P(F=F4|S==S2)=0/3, P(F=F4|S==S3)=1/3\n",
    "e. P(F=F5|S==S1)=1/4, P(F=F5|S==S2)=0/3, P(F=F5|S==S3)=0/3\n",
    "</pre>\n",
    "\n"
   ]
  },
  {
   "cell_type": "code",
   "execution_count": 45,
   "metadata": {
    "colab": {},
    "colab_type": "code",
    "id": "YACLYXRazQgR"
   },
   "outputs": [
    {
     "name": "stdout",
     "output_type": "stream",
     "text": [
      "{'F1S1': 1, 'F2S1': 1, 'F3S1': 0, 'F4S1': 1, 'F5S1': 1, 'F1S2': 1, 'F2S2': 1, 'F3S2': 1, 'F4S2': 0, 'F5S2': 0, 'F1S3': 0, 'F2S3': 1, 'F3S3': 1, 'F4S3': 1, 'F5S3': 0} {'S1': 4, 'S2': 3, 'S3': 3}\n",
      "P(F=F1)/S==S1)= 0.25\n",
      "P(F=F2)/S==S1)= 0.25\n",
      "P(F=F3)/S==S1)= 0.0\n",
      "P(F=F4)/S==S1)= 0.25\n",
      "P(F=F5)/S==S1)= 0.25\n",
      "P(F=F1)/S==S2)= 0.3333333333333333\n",
      "P(F=F2)/S==S2)= 0.3333333333333333\n",
      "P(F=F3)/S==S2)= 0.3333333333333333\n",
      "P(F=F4)/S==S2)= 0.0\n",
      "P(F=F5)/S==S2)= 0.0\n",
      "P(F=F1)/S==S3)= 0.0\n",
      "P(F=F2)/S==S3)= 0.3333333333333333\n",
      "P(F=F3)/S==S3)= 0.3333333333333333\n",
      "P(F=F4)/S==S3)= 0.3333333333333333\n",
      "P(F=F5)/S==S3)= 0.0\n"
     ]
    }
   ],
   "source": [
    "# write your python code here\n",
    "# you can take the above example as sample input for your program to test\n",
    "# it should work for any general input try not to hard code for only given input strings\n",
    "\n",
    "import math as mt\n",
    "\n",
    "# you can free to change all these codes/structure\n",
    "dictionary1 = {\n",
    "'F1S1': 0,\n",
    "'F2S1': 0,\n",
    "'F3S1': 0,\n",
    "'F4S1': 0,\n",
    "'F5S1': 0,\n",
    "'F1S2': 0,\n",
    "'F2S2': 0,\n",
    "'F3S2': 0,\n",
    "'F4S2': 0,\n",
    "'F5S2': 0,\n",
    "'F1S3': 0,\n",
    "'F2S3': 0,\n",
    "'F3S3': 0,\n",
    "'F4S3': 0,\n",
    "'F5S3': 0,\n",
    "}\n",
    "\n",
    "dictionary2 = {\n",
    "'S1': 0,\n",
    "'S2': 0,\n",
    "'S3': 0,\n",
    "}\n",
    "\n",
    "def compute_conditional_probabilites(A):\n",
    "    for i in range(len(A)):\n",
    "        for j in range(i+1,len(A)):\n",
    "            c=1\n",
    "            k = A[i][0] + A[i][1]\n",
    "            dictionary1[k] = c\n",
    "\n",
    "            if A[i][0]+A[i][1] == A[j][0]+A[j][1]:\n",
    "                k = A[i][0] + A[i][1]\n",
    "                c+=1\n",
    "                dictionary1[k] = c\n",
    "        dictionary2[A[i][1]] += 1\n",
    "    k = A[len(A)-1][0] + A[len(A)-1][1]\n",
    "    dictionary1[k] = 1\n",
    "\n",
    "    return dictionary1,dictionary2     \n",
    "        \n",
    "    # print the output as per the instructions\n",
    "A = [['F1','S1'],['F2','S2'],['F3','S3'],['F1','S2'],['F2','S3'],['F3','S2'],['F2','S1'],['F4','S1'],['F4','S3'],['F5','S1']]\n",
    "d1,d2 = compute_conditional_probabilites(A)\n",
    "print(d1,d2)\n",
    "\n",
    "for key,value in dictionary1.items():\n",
    "    if 'S1' in key:\n",
    "        x=str(value/dictionary2['S1'])\n",
    "        print('P(F={})'.format(key[:2])+'/S=={})= '.format(key[2:])+ x)\n",
    "    if 'S2' in key:\n",
    "        x=str(value/dictionary2['S2'])\n",
    "        print('P(F={})'.format(key[:2])+'/S=={})= '.format(key[2:])+ x)\n",
    "    if 'S3' in key:\n",
    "        x=str(value/dictionary2['S3'])\n",
    "        print('P(F={})'.format(key[:2])+'/S=={})= '.format(key[2:])+ x)\n",
    "\n"
   ]
  },
  {
   "cell_type": "markdown",
   "metadata": {
    "colab_type": "text",
    "id": "uI5OefuszQgT"
   },
   "source": [
    "<h3> Q9: Operations on sentences </h3>\n",
    "\n",
    "You will be given two sentances S1, S2 your task is to find \n",
    "<pre>\n",
    "a. Number of common words between S1, S2\n",
    "b. Words in S1 but not in S2\n",
    "c. Words in S2 but not in S1\n",
    "</pre>\n",
    "\n",
    "Ex: \n",
    "<pre>\n",
    "S1= \"the first column F will contain only 5 unique values\"\n",
    "S2= \"the second column S will contain only 3 unique values\"\n",
    "Output:\n",
    "a. 7\n",
    "b. ['first','F','5']\n",
    "c. ['second','S','3']\n",
    "</pre>"
   ]
  },
  {
   "cell_type": "code",
   "execution_count": 125,
   "metadata": {
    "colab": {},
    "colab_type": "code",
    "id": "6efRp-EizQgU"
   },
   "outputs": [
    {
     "name": "stdout",
     "output_type": "stream",
     "text": [
      "7\n",
      "['first', '5', 'F']\n",
      "['second', '3', 'S']\n"
     ]
    }
   ],
   "source": [
    "# write your python code here\n",
    "# you can take the above example as sample input for your program to test\n",
    "# it should work for any general input try not to hard code for only given input strings\n",
    "\n",
    "# you can free to change all these codes/structure\n",
    "def string_features(S1, S2):\n",
    "    # your code\n",
    "    count=0\n",
    "    res1=0\n",
    "    for ch in S1.split():\n",
    "        for ch1 in S2.split(): \n",
    "            if ch == ch1:\n",
    "                count+=1\n",
    "    print(count)\n",
    "def words(S1,S2):\n",
    "        F= S1.split()\n",
    "        H = S2.split()\n",
    "        x = list(set(F) - set(H))\n",
    "        c = list(set(H) - set(F))\n",
    "        print(x)\n",
    "        print(c)\n",
    "S1= \"the first column F will contain only 5 uniques values\"\n",
    "S2= \"the second column S will contain only 3 uniques values\"\n",
    "a = string_features(S1, S2)\n",
    "b = words(S1,S2)\n"
   ]
  },
  {
   "cell_type": "markdown",
   "metadata": {
    "colab_type": "text",
    "id": "tSajhVSIzQgV"
   },
   "source": [
    "<h3> Q10: Error Function</h3>\n",
    "\n",
    "You will be given a list of lists, each sublist will be of length 2 i.e. [[x,y],[p,q],[l,m]..[r,s]]\n",
    "consider its like a martrix of n rows and two columns\n",
    "\n",
    "a. the first column Y will contain interger values <br>\n",
    "b. the second column $Y_{score}$ will be having float values <br>\n",
    "Your task is to find the value of $f(Y,Y_{score}) = -1*\\frac{1}{n}\\Sigma_{for each Y,Y_{score} pair}(Ylog10(Y_{score})+(1-Y)log10(1-Y_{score}))$ here n is the number of rows in the matrix\n",
    "<pre>\n",
    "Ex:\n",
    "[[1, 0.4], [0, 0.5], [0, 0.9], [0, 0.3], [0, 0.6], [1, 0.1], [1, 0.9], [1, 0.8]]\n",
    "output:\n",
    "0.44982\n",
    "</pre>\n",
    "$\\frac{-1}{8}\\cdot((1\\cdot log_{10}(0.4)+0\\cdot log_{10}(0.6))+(0\\cdot log_{10}(0.5)+1\\cdot log_{10}(0.5)) + ... + (1\\cdot log_{10}(0.8)+0\\cdot log_{10}(0.2)) )$"
   ]
  },
  {
   "cell_type": "code",
   "execution_count": 66,
   "metadata": {
    "colab": {},
    "colab_type": "code",
    "id": "4zem9mM5zQgW"
   },
   "outputs": [
    {
     "name": "stdout",
     "output_type": "stream",
     "text": [
      "0.42430993457031635\n"
     ]
    }
   ],
   "source": [
    "# write your python code here\n",
    "# you can take the above example as sample input for your program to test\n",
    "# it should work for any general input try not to hard code for only given input strings\n",
    "                                                                                                    \n",
    "import math as mt\n",
    "# you can free to change all these codes/structure\n",
    "def compute_log_loss(A):\n",
    "    # your code\n",
    "    N=len(A)\n",
    "    sum=0\n",
    "    for i in range(len(A)):\n",
    "        if A[i][0]==1:\n",
    "            sum+=(-1)*((A[i][0])*(mt.log(A[i][1],10)))\n",
    "        else:\n",
    "            sum+=(-1)*((1-A[i][0])*(mt.log(1-A[i][1],10)))\n",
    "    return sum/N\n",
    "A = [[1, 0.4], [0, 0.5], [0, 0.9], [0, 0.3], [0, 0.6], [1, 0.1], [1, 0.9], [1, 0.8]]\n",
    "loss = compute_log_loss(A)\n",
    "print(loss)"
   ]
  },
  {
   "cell_type": "code",
   "execution_count": 6,
   "metadata": {},
   "outputs": [
    {
     "name": "stdout",
     "output_type": "stream",
     "text": [
      "ënter no of rows in the 1st matrix:2\n",
      "enter no of columns in the 1st matrix:2\n",
      "1\n",
      "2\n",
      "3\n",
      "4\n",
      "enter no of rows in the 2nd matrix:2\n",
      "enter no of columns in the 2nd matrix:2\n",
      "1\n",
      "0\n",
      "0\n",
      "1\n",
      "-----------\n",
      "1 \n",
      "-----------\n",
      "2 \n",
      "-----------\n",
      "3 \n",
      "-----------\n",
      "4 \n"
     ]
    }
   ],
   "source": [
    "import random\n",
    "r1=int(input(\"ënter no of rows in the 1st matrix:\"))\n",
    "c1=int(input(\"enter no of columns in the 1st matrix:\"))\n",
    "a=[[random.random() for col in range(c1)] for row in range(r1)]\n",
    "for i in range (r1):\n",
    "    for j in range (c1):\n",
    "        a[i][j]=int (input())\n",
    "        \n",
    "        \n",
    "r2=int(input(\"enter no of rows in the 2nd matrix:\"))\n",
    "c2=int(input(\"enter no of columns in the 2nd matrix:\"))\n",
    "b=[[random.random() for col in range(c2) ] for row in range(r2)]\n",
    "for i in range (r2):\n",
    "    for j in range (c2):\n",
    "        b[i][j]=int(input())\n",
    "        \n",
    "        \n",
    "c=[[random.random() for col in range(c2)] for row in range(r1)]\n",
    "if (c1==r2):\n",
    "    for i in range (r1):\n",
    "        for j in range(c2):\n",
    "            c[i][j]=0\n",
    "            print(\"-----------\")\n",
    "            for k in range (c1):\n",
    "                c[i][j]+=a[i][k]*b[k][j]\n",
    "           \n",
    "            print(c[i][j],'\\n',end=\"\")\n",
    "            \n",
    "        print\n",
    "else:\n",
    "    print(\"multiplication not possible\")\n",
    "            "
   ]
  },
  {
   "cell_type": "code",
   "execution_count": null,
   "metadata": {},
   "outputs": [],
   "source": []
  }
 ],
 "metadata": {
  "colab": {
   "name": "2. Python Mandatory Assignment.ipynb",
   "provenance": [],
   "version": "0.3.2"
  },
  "kernelspec": {
   "display_name": "Python 3",
   "language": "python",
   "name": "python3"
  },
  "language_info": {
   "codemirror_mode": {
    "name": "ipython",
    "version": 3
   },
   "file_extension": ".py",
   "mimetype": "text/x-python",
   "name": "python",
   "nbconvert_exporter": "python",
   "pygments_lexer": "ipython3",
   "version": "3.7.3"
  }
 },
 "nbformat": 4,
 "nbformat_minor": 1
}
